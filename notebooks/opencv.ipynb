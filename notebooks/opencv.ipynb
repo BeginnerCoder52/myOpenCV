{
 "cells": [
  {
   "cell_type": "code",
   "execution_count": 2,
   "metadata": {},
   "outputs": [],
   "source": [
    "import cv2 as cv\n",
    "\n",
    "# img = cv.imread(\"../Photos/cat.jpg\")  # Lùi về thư mục cha rồi vào Photos/\n",
    "\n",
    "# if img is None:\n",
    "#     print(\"Error: Cannot load image. Check file path!\")\n",
    "# else:\n",
    "#     cv.imshow(\"Cat\", img)\n",
    "#     cv.waitKey(0)\n",
    "\n",
    "capture = cv.VideoCapture(\"../Videos/Cat_cuteness.mp4\")\n",
    "\n",
    "while True:\n",
    "    isTrue, frame = capture.read()\n",
    "    if not isTrue:  # Nếu không còn frame nào, thoát vòng lặp\n",
    "        break\n",
    "\n",
    "    cv.imshow(\"Video\", frame)\n",
    "\n",
    "    # Kiểm tra nếu cửa sổ bị đóng\n",
    "    if cv.getWindowProperty(\"Video\", cv.WND_PROP_VISIBLE) < 1:\n",
    "        break\n",
    "\n",
    "    # Nếu nhấn phím 'd', thoát vòng lặp\n",
    "    if cv.waitKey(20) & 0xFF == ord(\"d\"):\n",
    "        break\n",
    "\n",
    "# Giải phóng tài nguyên\n",
    "capture.release()\n",
    "cv.destroyAllWindows()\n"
   ]
  }
 ],
 "metadata": {
  "kernelspec": {
   "display_name": ".venv",
   "language": "python",
   "name": "python3"
  },
  "language_info": {
   "codemirror_mode": {
    "name": "ipython",
    "version": 3
   },
   "file_extension": ".py",
   "mimetype": "text/x-python",
   "name": "python",
   "nbconvert_exporter": "python",
   "pygments_lexer": "ipython3",
   "version": "3.13.2"
  }
 },
 "nbformat": 4,
 "nbformat_minor": 2
}
